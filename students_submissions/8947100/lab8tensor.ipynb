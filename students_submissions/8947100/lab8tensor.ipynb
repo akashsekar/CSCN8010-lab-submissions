{
 "cells": [
  {
   "cell_type": "code",
   "execution_count": 6,
   "metadata": {},
   "outputs": [
    {
     "name": "stdout",
     "output_type": "stream",
     "text": [
      "dot product 32.0\n"
     ]
    }
   ],
   "source": [
    "import tensorflow as tf\n",
    "\n",
    "vector1 = tf.constant([1, 2, 3], dtype=tf.float32)\n",
    "vector2 = tf.constant([4, 5, 6], dtype=tf.float32)\n",
    "dotProduct = tf.tensordot(vector1, vector2, axes=1)\n",
    "\n",
    "print(\"dot product\", dotProduct.numpy())"
   ]
  },
  {
   "cell_type": "code",
   "execution_count": 7,
   "metadata": {},
   "outputs": [
    {
     "name": "stdout",
     "output_type": "stream",
     "text": [
      "matrix Multiplication [[19. 22.]\n",
      " [43. 50.]]\n"
     ]
    }
   ],
   "source": [
    "matrix1_tf = tf.constant([[1, 2], [3, 4]], dtype=tf.float32)\n",
    "matrix2_tf = tf.constant([[5, 6], [7, 8]], dtype=tf.float32)\n",
    "matrix_multiplication_tf = tf.matmul(matrix1_tf, matrix2_tf)\n",
    "\n",
    "print(\"matrix Multiplication\", matrix_multiplication_tf.numpy())"
   ]
  }
 ],
 "metadata": {
  "kernelspec": {
   "display_name": "tensorflow_cpu",
   "language": "python",
   "name": "python3"
  },
  "language_info": {
   "codemirror_mode": {
    "name": "ipython",
    "version": 3
   },
   "file_extension": ".py",
   "mimetype": "text/x-python",
   "name": "python",
   "nbconvert_exporter": "python",
   "pygments_lexer": "ipython3",
   "version": "3.11.3"
  }
 },
 "nbformat": 4,
 "nbformat_minor": 2
}
