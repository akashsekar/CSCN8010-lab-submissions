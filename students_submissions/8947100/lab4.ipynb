{
 "cells": [
  {
   "cell_type": "code",
   "execution_count": 37,
   "metadata": {},
   "outputs": [],
   "source": [
    "import numpy as np\n",
    "import pandas as pd\n",
    "from sklearn.datasets import load_diabetes\n",
    "from sklearn.model_selection import train_test_split\n",
    "from sklearn.linear_model import LinearRegression\n",
    "from sklearn.preprocessing import PolynomialFeatures\n",
    "from sklearn.metrics import r2_score, mean_absolute_error\n",
    "from sklearn.preprocessing import PolynomialFeatures"
   ]
  },
  {
   "cell_type": "code",
   "execution_count": 38,
   "metadata": {},
   "outputs": [],
   "source": [
    "diabetes = load_diabetes()\n",
    "X = diabetes.data\n",
    "y = diabetes.target\n"
   ]
  },
  {
   "cell_type": "code",
   "execution_count": 39,
   "metadata": {},
   "outputs": [],
   "source": [
    "X_train, X_temp, y_train, y_temp = train_test_split(X, y, test_size=0.3, random_state=42)\n",
    "X_valid, X_test, y_valid, y_test = train_test_split(X_temp, y_temp, test_size=0.5, random_state=42)"
   ]
  },
  {
   "cell_type": "code",
   "execution_count": 40,
   "metadata": {},
   "outputs": [],
   "source": [
    "linear_reg = LinearRegression()\n",
    "linear_reg.fit(X_train, y_train)\n",
    "y_pred_linear = linear_reg.predict(X_valid)"
   ]
  },
  {
   "cell_type": "code",
   "execution_count": 41,
   "metadata": {},
   "outputs": [],
   "source": [
    "poly_reg_bmi = PolynomialFeatures(degree=2, include_bias=False)\n",
    "X_train_bmi_poly = poly_reg_bmi.fit_transform(X_train[:, [2]])\n",
    "X_valid_bmi_poly = poly_reg_bmi.transform(X_valid[:, [2]])\n",
    "linear_reg_bmi_poly = LinearRegression()\n",
    "linear_reg_bmi_poly.fit(X_train_bmi_poly, y_train)\n",
    "y_pred_bmi_poly = linear_reg_bmi_poly.predict(X_valid_bmi_poly)"
   ]
  },
  {
   "cell_type": "code",
   "execution_count": 42,
   "metadata": {},
   "outputs": [],
   "source": [
    "poly_reg_all = PolynomialFeatures(degree=2, include_bias=False)\n",
    "X_train_all_poly = poly_reg_all.fit_transform(X_train)\n",
    "X_valid_all_poly = poly_reg_all.transform(X_valid)\n",
    "linear_reg_all_poly = LinearRegression()\n",
    "linear_reg_all_poly.fit(X_train_all_poly, y_train)\n",
    "y_pred_all_poly = linear_reg_all_poly.predict(X_valid_all_poly)"
   ]
  },
  {
   "cell_type": "code",
   "execution_count": 43,
   "metadata": {},
   "outputs": [
    {
     "name": "stdout",
     "output_type": "stream",
     "text": [
      "multivariate linea regression\n",
      "rsquared 0.5112619269090262\n",
      "MAPE 34.61633710712247%\n",
      "MAE 38.216681372349036\n",
      "\n",
      "polynomial regression on BMI\n",
      "rsquared 0.296223055272985\n",
      "MAPE 41.90243458933215%\n",
      "MAE 48.27302777867063\n",
      "\n",
      "multivariate polynomial regression\n",
      "rsqured 0.36717480117280155\n",
      "MAPE 38.08962481749319%\n",
      "MAE 42.47137889140918\n"
     ]
    }
   ],
   "source": [
    "def evaluate_model(y_true, y_pred):\n",
    "    r_squared = r2_score(y_true, y_pred)\n",
    "    mape = np.mean(np.abs((y_true - y_pred) / y_true)) * 100\n",
    "    mae = mean_absolute_error(y_true, y_pred)\n",
    "    return r_squared, mape, mae\n",
    "\n",
    "r_squared_linear, mape_linear, mae_linear = evaluate_model(y_valid, y_pred_linear)\n",
    "r_squared_bmi_poly, mape_bmi_poly, mae_bmi_poly = evaluate_model(y_valid, y_pred_bmi_poly)\n",
    "r_squared_all_poly, mape_all_poly, mae_all_poly = evaluate_model(y_valid, y_pred_all_poly)\n",
    "\n",
    "print(\"multivariate linea regression\")\n",
    "print(f\"rsquared {r_squared_linear}\")\n",
    "print(f\"MAPE {mape_linear}%\")\n",
    "print(f\"MAE {mae_linear}\")\n",
    "\n",
    "print(\"\\npolynomial regression on BMI\")\n",
    "print(f\"rsquared {r_squared_bmi_poly}\")\n",
    "print(f\"MAPE {mape_bmi_poly}%\")\n",
    "print(f\"MAE {mae_bmi_poly}\")\n",
    "\n",
    "print(\"\\nmultivariate polynomial regression\")\n",
    "print(f\"rsqured {r_squared_all_poly}\")\n",
    "print(f\"MAPE {mape_all_poly}%\")\n",
    "print(f\"MAE {mae_all_poly}\")"
   ]
  },
  {
   "cell_type": "code",
   "execution_count": 44,
   "metadata": {},
   "outputs": [
    {
     "name": "stdout",
     "output_type": "stream",
     "text": [
      "number of parameters\n",
      "mutivariate linear regression 11 \n",
      "polynomial regression on BMI 2 \n",
      "multivariatepolynomial regression 65\n"
     ]
    }
   ],
   "source": [
    "num_features_linear = X_train.shape[1]\n",
    "params_linear = num_features_linear + 1 \n",
    "degree = 2 \n",
    "poly_reg_bmi = PolynomialFeatures(degree=degree, include_bias=False)\n",
    "X_train_bmi_poly = poly_reg_bmi.fit_transform(X_train[:, [2]])\n",
    "params_bmi_poly = X_train_bmi_poly.shape[1]\n",
    "\n",
    "degree = 2 \n",
    "poly_reg_all = PolynomialFeatures(degree=degree, include_bias=False)\n",
    "X_train_all_poly = poly_reg_all.fit_transform(X_train)\n",
    "params_all_poly = X_train_all_poly.shape[1]\n",
    "\n",
    "print(\"number of parameters\")\n",
    "print(f\"mutivariate linear regression {params_linear} \")\n",
    "print(f\"polynomial regression on BMI {params_bmi_poly} \")\n",
    "print(f\"multivariatepolynomial regression {params_all_poly}\")\n"
   ]
  },
  {
   "cell_type": "markdown",
   "metadata": {},
   "source": [
    ">For simplicity the polynomial regression on bmi with low number of parameter will be a good choice.\n",
    "\n",
    ">If overall model performance is important then multivariate polynomial regression with higher num of parameters will be a good choice.\n",
    "\n",
    ">The multivariate linear regression provides a balanced approach .\n",
    "\n",
    ">The choice of deployment is based on the specific requirements."
   ]
  }
 ],
 "metadata": {
  "kernelspec": {
   "display_name": "Python 3",
   "language": "python",
   "name": "python3"
  },
  "language_info": {
   "codemirror_mode": {
    "name": "ipython",
    "version": 3
   },
   "file_extension": ".py",
   "mimetype": "text/x-python",
   "name": "python",
   "nbconvert_exporter": "python",
   "pygments_lexer": "ipython3",
   "version": "3.11.3"
  }
 },
 "nbformat": 4,
 "nbformat_minor": 2
}
